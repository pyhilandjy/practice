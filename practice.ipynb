{
 "cells": [
  {
   "cell_type": "code",
   "execution_count": 1,
   "metadata": {},
   "outputs": [
    {
     "name": "stdout",
     "output_type": "stream",
     "text": [
      "10\n"
     ]
    }
   ],
   "source": [
    "a = input().split()\n",
    "for i in range(len(a)):\n",
    "    if int(a[i]) % 2 == 0:\n",
    "        print(a[i])\n"
   ]
  },
  {
   "cell_type": "code",
   "execution_count": 2,
   "metadata": {},
   "outputs": [
    {
     "name": "stdout",
     "output_type": "stream",
     "text": [
      "0\n",
      "1\n",
      "2\n",
      "3\n",
      "4\n"
     ]
    }
   ],
   "source": [
    "num = int(input('num'))\n",
    "for i in range(num+1):\n",
    "    print(i)"
   ]
  },
  {
   "cell_type": "code",
   "execution_count": 3,
   "metadata": {},
   "outputs": [
    {
     "name": "stdout",
     "output_type": "stream",
     "text": [
      "2\n"
     ]
    }
   ],
   "source": [
    "num = int(input('1 to 100'))\n",
    "sum = 0\n",
    "for i in range(num):\n",
    "    if i % 2 == 0:\n",
    "        sum += i\n",
    "print(sum)"
   ]
  },
  {
   "cell_type": "code",
   "execution_count": 4,
   "metadata": {},
   "outputs": [
    {
     "name": "stdout",
     "output_type": "stream",
     "text": [
      "e\n",
      "r\n",
      "w\n",
      "d\n",
      "s\n",
      "d\n",
      "q\n"
     ]
    }
   ],
   "source": [
    "for i in range(100):\n",
    "    spell = input(\"spell\")\n",
    "    print(spell)\n",
    "    if spell == 'q':\n",
    "        break"
   ]
  },
  {
   "cell_type": "code",
   "execution_count": 6,
   "metadata": {},
   "outputs": [
    {
     "data": {
      "text/plain": [
       "[3, 2, 1]"
      ]
     },
     "execution_count": 6,
     "metadata": {},
     "output_type": "execute_result"
    }
   ],
   "source": [
    "def solution(num_list):\n",
    "    answer = [num_list[(len(num_list)- 1) - i] for i in range(len(num_list))]\n",
    "    return answer\n",
    "solution([1, 2, 3])"
   ]
  },
  {
   "cell_type": "code",
   "execution_count": 12,
   "metadata": {},
   "outputs": [
    {
     "data": {
      "text/plain": [
       "24"
      ]
     },
     "execution_count": 12,
     "metadata": {},
     "output_type": "execute_result"
    }
   ],
   "source": [
    "def solution(numbers):\n",
    "    numbers.sort()\n",
    "    answer = numbers[-1] *numbers[-2]\n",
    "    return answer"
   ]
  },
  {
   "cell_type": "code",
   "execution_count": 11,
   "metadata": {},
   "outputs": [
    {
     "data": {
      "text/plain": [
       "9"
      ]
     },
     "execution_count": 11,
     "metadata": {},
     "output_type": "execute_result"
    }
   ],
   "source": [
    "def solution(sides):\n",
    "    answer = 0\n",
    "    sides.sort()\n",
    "    if sides[-1] >= sides[0] + sides[1]:\n",
    "        answer = 2\n",
    "    else:\n",
    "        answer = 1\n",
    "    return answer\n"
   ]
  },
  {
   "cell_type": "code",
   "execution_count": null,
   "metadata": {},
   "outputs": [],
   "source": [
    "def solution(n):\n",
    "    import math\n",
    "    answer = 0\n",
    "    pizza = 7\n",
    "    answer = math.ceil(n / pizza)\n",
    "    return answer"
   ]
  },
  {
   "cell_type": "code",
   "execution_count": 24,
   "metadata": {},
   "outputs": [
    {
     "data": {
      "text/plain": [
       "'nc t mt y'"
      ]
     },
     "execution_count": 24,
     "metadata": {},
     "output_type": "execute_result"
    }
   ],
   "source": [
    "def solution(my_string):\n",
    "    answer = ''\n",
    "    a = ['a', 'e', 'i', 'o', 'u']\n",
    "    for i in my_string:\n",
    "        if i not in a:\n",
    "            answer += i\n",
    "\n",
    "    return answer"
   ]
  },
  {
   "cell_type": "code",
   "execution_count": null,
   "metadata": {},
   "outputs": [],
   "source": [
    "def solution(s):\n",
    "    numstr = ['zero','one','two','three','four','five','six','seven','eight','nine','0','1','2','3','4','5','6','7','8','9']\n",
    "    numint = []\n",
    "    for i in range(10):\n",
    "        numint.append(i)\n",
    "\n",
    "\n",
    "    for i in numstr:\n",
    "\n",
    "    return answer"
   ]
  },
  {
   "cell_type": "code",
   "execution_count": 32,
   "metadata": {},
   "outputs": [
    {
     "data": {
      "text/plain": [
       "148"
      ]
     },
     "execution_count": 32,
     "metadata": {},
     "output_type": "execute_result"
    }
   ],
   "source": [
    "num = ['zero','one','two','three','four','five','six','seven','eight','nine']\n",
    "numint = ['0','1','2','3','4','5','6','7','8','9']\n",
    "def solution(s):\n",
    "    answer = ''\n",
    "    for i in range(10):\n",
    "        if num[i] in s:\n",
    "            answer+=numm[i]\n",
    "        elif numint[i] in s:\n",
    "            answer+=numm[i]\n",
    "\n",
    "    return int(answer)\n",
    "\n",
    "solution(\"one4oneeight\")\n",
    "        \n",
    "\n"
   ]
  },
  {
   "cell_type": "code",
   "execution_count": 34,
   "metadata": {},
   "outputs": [
    {
     "name": "stdout",
     "output_type": "stream",
     "text": [
      "1\n",
      "3\n",
      "6\n",
      "10\n"
     ]
    },
    {
     "data": {
      "text/plain": [
       "1.0"
      ]
     },
     "execution_count": 34,
     "metadata": {},
     "output_type": "execute_result"
    }
   ],
   "source": [
    "def solution(arr):\n",
    "    sum = 0\n",
    "    for i in arr:\n",
    "        sum += i\n",
    "        print(sum)\n",
    "        answer = sum / len(arr)\n",
    "    return answer\n",
    "solution([1, 2, 3, 4])"
   ]
  },
  {
   "cell_type": "code",
   "execution_count": 43,
   "metadata": {},
   "outputs": [
    {
     "data": {
      "text/plain": [
       "8"
      ]
     },
     "execution_count": 43,
     "metadata": {},
     "output_type": "execute_result"
    }
   ],
   "source": [
    "def solution(num):\n",
    "    answer = 0\n",
    "    while num != 1:\n",
    "        if num % 2 == 0:\n",
    "            num = (num / 2)\n",
    "        elif num % 2 != 0:\n",
    "            num = ((num * 3) + 1)\n",
    "        answer += 1\n",
    "    if answer > 500:\n",
    "        answer = -1\n",
    "    return answer\n",
    "\n",
    "solution(6)"
   ]
  },
  {
   "cell_type": "code",
   "execution_count": null,
   "metadata": {},
   "outputs": [],
   "source": [
    "def solution(num):\n",
    "    if num % 2 == 0:\n",
    "        answer = 'Even'\n",
    "    elif num % 2 != 0:\n",
    "        answer = 'Odd'\n",
    "    return answer"
   ]
  },
  {
   "cell_type": "code",
   "execution_count": 3,
   "metadata": {},
   "outputs": [],
   "source": [
    "def solution(x):\n",
    "    answer = None\n",
    "    x = str(x)\n",
    "    for i in range(len(x)):\n",
    "        for _ in range(1, len(x) -1):\n",
    "            if (int(x[i])+ int(x[i+_])) % int(x) == 0:\n",
    "               answer = True\n",
    "            else:\n",
    "               answer = False\n",
    "    return answer\n",
    "\n",
    "solution(10)"
   ]
  },
  {
   "cell_type": "code",
   "execution_count": 9,
   "metadata": {},
   "outputs": [
    {
     "data": {
      "text/plain": [
       "True"
      ]
     },
     "execution_count": 9,
     "metadata": {},
     "output_type": "execute_result"
    }
   ],
   "source": [
    "def solution(x):\n",
    "    answer = None\n",
    "    xstr = str(x)\n",
    "    sumnum = 0\n",
    "    for i in xstr:\n",
    "        sumnum += int(i)\n",
    "    if x % sumnum == 0:\n",
    "        answer = True\n",
    "    else:\n",
    "        answer = False\n",
    "\n",
    "    return answer"
   ]
  },
  {
   "cell_type": "code",
   "execution_count": 14,
   "metadata": {},
   "outputs": [
    {
     "data": {
      "text/plain": [
       "'TUE'"
      ]
     },
     "execution_count": 14,
     "metadata": {},
     "output_type": "execute_result"
    }
   ],
   "source": [
    "def solution(a, b):\n",
    "    import pandas as pd\n",
    "    year = 2016\n",
    "    month = a\n",
    "    day = b\n",
    "    date = f\"{year}-{month}-{day}\"\n",
    "    date = pd.to_datetime(date)\n",
    "    answer = date.day_name()\n",
    "    answer = answer[0:3].upper()\n",
    "    return answer\n",
    "\n",
    "solution(5, 24)"
   ]
  },
  {
   "cell_type": "code",
   "execution_count": 24,
   "metadata": {},
   "outputs": [
    {
     "data": {
      "text/plain": [
       "'dc'"
      ]
     },
     "execution_count": 24,
     "metadata": {},
     "output_type": "execute_result"
    }
   ],
   "source": [
    "def solution(s):\n",
    "    answer = ''\n",
    "    a = len(s)\n",
    "    if a % 2 == 1:\n",
    "        answer += s[int(a/2)]\n",
    "    else:\n",
    "        answer += s[int(a/2)-1] + s[int(a/2)]\n",
    "    \n",
    "    return answer\n",
    "s = 'abcdef'\n",
    "solution(s)"
   ]
  },
  {
   "cell_type": "code",
   "execution_count": 47,
   "metadata": {},
   "outputs": [
    {
     "data": {
      "text/plain": [
       "[5, 10]"
      ]
     },
     "execution_count": 47,
     "metadata": {},
     "output_type": "execute_result"
    }
   ],
   "source": [
    "def solution(arr, divisor):\n",
    "    arr.sort()\n",
    "    answer = list(filter(lambda x: x % divisor == 0, arr))\n",
    "    if len(answer) == 0:\n",
    "        return [-1]\n",
    "    return answer\n",
    "solution([5, 9, 7, 10], 5)"
   ]
  },
  {
   "cell_type": "code",
   "execution_count": 31,
   "metadata": {},
   "outputs": [],
   "source": [
    "def solution(a, b):\n",
    "    if a == b: \n",
    "        return a \n",
    "\n",
    "    if a > b:\n",
    "        a, b = b, a \n",
    "\n",
    "    total_sum = 0\n",
    "    for num in range(a, b + 1):\n",
    "        total_sum += num\n",
    "\n",
    "    return total_sum"
   ]
  },
  {
   "cell_type": "code",
   "execution_count": 11,
   "metadata": {},
   "outputs": [
    {
     "name": "stdout",
     "output_type": "stream",
     "text": [
      "0\n",
      "-1\n",
      "-2\n",
      "-3\n",
      "-4\n",
      "-5\n",
      "-6\n",
      "-7\n",
      "-8\n",
      "-9\n"
     ]
    }
   ],
   "source": [
    "for i in range(0,-10, -1):\n",
    "    print(i)"
   ]
  },
  {
   "cell_type": "code",
   "execution_count": 35,
   "metadata": {},
   "outputs": [
    {
     "name": "stdout",
     "output_type": "stream",
     "text": [
      "<class 'tuple'>\n",
      "<class 'tuple'>\n",
      "<class 'tuple'>\n"
     ]
    }
   ],
   "source": [
    "list_a = [\"A\", \"B\", \"C\"]\n",
    "list_b = [\"X\", \"Y\", \"Z\"]\n",
    "\n",
    "for i in list(zip(list_a, list_b)):\n",
    "    list(i)\n",
    "    print(type(i))"
   ]
  },
  {
   "cell_type": "code",
   "execution_count": 36,
   "metadata": {},
   "outputs": [
    {
     "name": "stdout",
     "output_type": "stream",
     "text": [
      "['a', 2]\n",
      "('a', 2)\n",
      "['b', 4]\n",
      "('b', 4)\n",
      "['c', 6]\n",
      "('c', 6)\n"
     ]
    }
   ],
   "source": [
    "lst1 = ['a','b','c']\n",
    "lst2 = [2,4,6,8]\n",
    "for i in list(zip(lst1,lst2)):\n",
    "    print(list(i))\n",
    "    print(i)"
   ]
  },
  {
   "cell_type": "code",
   "execution_count": 52,
   "metadata": {},
   "outputs": [
    {
     "data": {
      "text/plain": [
       "('abcd', 'abce', 'cdx')"
      ]
     },
     "execution_count": 52,
     "metadata": {},
     "output_type": "execute_result"
    }
   ],
   "source": [
    "def solution(strings, n):\n",
    "    answer = []\n",
    "    if n == 0:\n",
    "        a = [strings[1], strings[2]]\n",
    "        a.sort()\n",
    "        answer = strings[n], a[0], a[1]\n",
    "    elif n == 1:\n",
    "        a = [strings[0], strings[2]]\n",
    "        a.sort()\n",
    "        answer = a[0], strings[n], a[1]\n",
    "    else:\n",
    "        a = [strings[0], strings[1]]\n",
    "        a.sort()\n",
    "        answer = a[0], a[1], strings[n]\n",
    "\n",
    "\n",
    "    return answer\n"
   ]
  },
  {
   "cell_type": "code",
   "execution_count": 54,
   "metadata": {},
   "outputs": [],
   "source": [
    "def solution(strings, n):\n",
    "    answer = sorted(strings, key=lambda x: (x[2], x))\n",
    "\n",
    "    return answer"
   ]
  },
  {
   "cell_type": "code",
   "execution_count": 65,
   "metadata": {},
   "outputs": [
    {
     "ename": "SyntaxError",
     "evalue": "invalid syntax (346817934.py, line 3)",
     "output_type": "error",
     "traceback": [
      "\u001b[0;36m  Cell \u001b[0;32mIn[65], line 3\u001b[0;36m\u001b[0m\n\u001b[0;31m    answer = arr.sort()[-1].del\u001b[0m\n\u001b[0m                            ^\u001b[0m\n\u001b[0;31mSyntaxError\u001b[0m\u001b[0;31m:\u001b[0m invalid syntax\n"
     ]
    }
   ],
   "source": []
  }
 ],
 "metadata": {
  "kernelspec": {
   "display_name": "yeardream",
   "language": "python",
   "name": "python3"
  },
  "language_info": {
   "codemirror_mode": {
    "name": "ipython",
    "version": 3
   },
   "file_extension": ".py",
   "mimetype": "text/x-python",
   "name": "python",
   "nbconvert_exporter": "python",
   "pygments_lexer": "ipython3",
   "version": "3.9.16"
  },
  "orig_nbformat": 4
 },
 "nbformat": 4,
 "nbformat_minor": 2
}
